{
 "cells": [
  {
   "cell_type": "markdown",
   "id": "1ddf85d3-adcb-42a8-ae64-059fc36d3eed",
   "metadata": {},
   "source": [
    "# Data Import and Initial Exploration"
   ]
  },
  {
   "cell_type": "code",
   "execution_count": 1,
   "id": "2a00ca40-5185-4a62-a465-33cab666a4fb",
   "metadata": {},
   "outputs": [],
   "source": [
    "import numpy as np\n",
    "import pandas as pd\n",
    "import warnings\n",
    "warnings.filterwarnings(\"ignore\")"
   ]
  },
  {
   "cell_type": "code",
   "execution_count": 2,
   "id": "7ae9d3f8-7c78-4629-99af-9847bc195549",
   "metadata": {},
   "outputs": [
    {
     "data": {
      "text/html": [
       "<div>\n",
       "<style scoped>\n",
       "    .dataframe tbody tr th:only-of-type {\n",
       "        vertical-align: middle;\n",
       "    }\n",
       "\n",
       "    .dataframe tbody tr th {\n",
       "        vertical-align: top;\n",
       "    }\n",
       "\n",
       "    .dataframe thead th {\n",
       "        text-align: right;\n",
       "    }\n",
       "</style>\n",
       "<table border=\"1\" class=\"dataframe\">\n",
       "  <thead>\n",
       "    <tr style=\"text-align: right;\">\n",
       "      <th></th>\n",
       "      <th></th>\n",
       "      <th>GDP</th>\n",
       "      <th>Inflation Rate</th>\n",
       "      <th>Population Growth</th>\n",
       "      <th>Export</th>\n",
       "      <th>Import</th>\n",
       "    </tr>\n",
       "    <tr>\n",
       "      <th>Time</th>\n",
       "      <th>Country</th>\n",
       "      <th></th>\n",
       "      <th></th>\n",
       "      <th></th>\n",
       "      <th></th>\n",
       "      <th></th>\n",
       "    </tr>\n",
       "  </thead>\n",
       "  <tbody>\n",
       "    <tr>\n",
       "      <th rowspan=\"5\" valign=\"top\">2014</th>\n",
       "      <th>Belgium</th>\n",
       "      <td>104.272</td>\n",
       "      <td>0.5</td>\n",
       "      <td>56434.0</td>\n",
       "      <td>4.271433e+11</td>\n",
       "      <td>4.259520e+11</td>\n",
       "    </tr>\n",
       "    <tr>\n",
       "      <th>Bulgaria</th>\n",
       "      <td>103.268</td>\n",
       "      <td>-1.6</td>\n",
       "      <td>-87763.0</td>\n",
       "      <td>3.689581e+10</td>\n",
       "      <td>3.755127e+10</td>\n",
       "    </tr>\n",
       "    <tr>\n",
       "      <th>Czechia</th>\n",
       "      <td>103.212</td>\n",
       "      <td>0.4</td>\n",
       "      <td>25856.0</td>\n",
       "      <td>1.715785e+11</td>\n",
       "      <td>1.583186e+11</td>\n",
       "    </tr>\n",
       "    <tr>\n",
       "      <th>Denmark</th>\n",
       "      <td>104.029</td>\n",
       "      <td>0.4</td>\n",
       "      <td>32480.0</td>\n",
       "      <td>1.934701e+11</td>\n",
       "      <td>1.706914e+11</td>\n",
       "    </tr>\n",
       "    <tr>\n",
       "      <th>Germany</th>\n",
       "      <td>106.923</td>\n",
       "      <td>0.8</td>\n",
       "      <td>430074.0</td>\n",
       "      <td>1.653100e+12</td>\n",
       "      <td>1.393838e+12</td>\n",
       "    </tr>\n",
       "    <tr>\n",
       "      <th>...</th>\n",
       "      <th>...</th>\n",
       "      <td>...</td>\n",
       "      <td>...</td>\n",
       "      <td>...</td>\n",
       "      <td>...</td>\n",
       "      <td>...</td>\n",
       "    </tr>\n",
       "    <tr>\n",
       "      <th rowspan=\"5\" valign=\"top\">2023</th>\n",
       "      <th>North Macedonia</th>\n",
       "      <td>131.036</td>\n",
       "      <td>9.0</td>\n",
       "      <td>-3707.0</td>\n",
       "      <td>1.069052e+10</td>\n",
       "      <td>1.274551e+10</td>\n",
       "    </tr>\n",
       "    <tr>\n",
       "      <th>Albania</th>\n",
       "      <td>158.601</td>\n",
       "      <td>5.3</td>\n",
       "      <td>NaN</td>\n",
       "      <td>9.104536e+09</td>\n",
       "      <td>1.032040e+10</td>\n",
       "    </tr>\n",
       "    <tr>\n",
       "      <th>Serbia</th>\n",
       "      <td>131.057</td>\n",
       "      <td>12.1</td>\n",
       "      <td>-36029.0</td>\n",
       "      <td>4.479989e+10</td>\n",
       "      <td>4.833253e+10</td>\n",
       "    </tr>\n",
       "    <tr>\n",
       "      <th>Turkiye</th>\n",
       "      <td>204.414</td>\n",
       "      <td>54.0</td>\n",
       "      <td>92824.0</td>\n",
       "      <td>3.568998e+11</td>\n",
       "      <td>3.842403e+11</td>\n",
       "    </tr>\n",
       "    <tr>\n",
       "      <th>Kosovo</th>\n",
       "      <td>170.061</td>\n",
       "      <td>4.9</td>\n",
       "      <td>NaN</td>\n",
       "      <td>4.149652e+09</td>\n",
       "      <td>7.360350e+09</td>\n",
       "    </tr>\n",
       "  </tbody>\n",
       "</table>\n",
       "<p>370 rows × 5 columns</p>\n",
       "</div>"
      ],
      "text/plain": [
       "                          GDP  Inflation Rate  Population Growth  \\\n",
       "Time Country                                                       \n",
       "2014 Belgium          104.272             0.5            56434.0   \n",
       "     Bulgaria         103.268            -1.6           -87763.0   \n",
       "     Czechia          103.212             0.4            25856.0   \n",
       "     Denmark          104.029             0.4            32480.0   \n",
       "     Germany          106.923             0.8           430074.0   \n",
       "...                       ...             ...                ...   \n",
       "2023 North Macedonia  131.036             9.0            -3707.0   \n",
       "     Albania          158.601             5.3                NaN   \n",
       "     Serbia           131.057            12.1           -36029.0   \n",
       "     Turkiye          204.414            54.0            92824.0   \n",
       "     Kosovo           170.061             4.9                NaN   \n",
       "\n",
       "                            Export        Import  \n",
       "Time Country                                      \n",
       "2014 Belgium          4.271433e+11  4.259520e+11  \n",
       "     Bulgaria         3.689581e+10  3.755127e+10  \n",
       "     Czechia          1.715785e+11  1.583186e+11  \n",
       "     Denmark          1.934701e+11  1.706914e+11  \n",
       "     Germany          1.653100e+12  1.393838e+12  \n",
       "...                            ...           ...  \n",
       "2023 North Macedonia  1.069052e+10  1.274551e+10  \n",
       "     Albania          9.104536e+09  1.032040e+10  \n",
       "     Serbia           4.479989e+10  4.833253e+10  \n",
       "     Turkiye          3.568998e+11  3.842403e+11  \n",
       "     Kosovo           4.149652e+09  7.360350e+09  \n",
       "\n",
       "[370 rows x 5 columns]"
      ]
     },
     "execution_count": 2,
     "metadata": {},
     "output_type": "execute_result"
    }
   ],
   "source": [
    "df = pd.read_excel(\"data_1.xlsx\", na_values = [\":\", \"\"], index_col=[0, 1])\n",
    "df"
   ]
  },
  {
   "cell_type": "code",
   "execution_count": 3,
   "id": "f6d32c62-08a7-46ca-8590-1d118c4e58dc",
   "metadata": {},
   "outputs": [
    {
     "data": {
      "text/plain": [
       "GDP                  1.070720e+02\n",
       "Inflation Rate       1.800000e+00\n",
       "Population Growth    4.061000e+04\n",
       "Export               3.776062e+11\n",
       "Import               3.767593e+11\n",
       "Name: (2016, Belgium), dtype: float64"
      ]
     },
     "execution_count": 3,
     "metadata": {},
     "output_type": "execute_result"
    }
   ],
   "source": [
    "df.loc[(2016, 'Belgium')]"
   ]
  },
  {
   "cell_type": "code",
   "execution_count": 4,
   "id": "af81fc0a-46ac-448a-99ce-3f1f07dceafd",
   "metadata": {},
   "outputs": [
    {
     "name": "stdout",
     "output_type": "stream",
     "text": [
      "<class 'pandas.core.frame.DataFrame'>\n",
      "MultiIndex: 370 entries, (2014, 'Belgium') to (2023, 'Kosovo')\n",
      "Data columns (total 5 columns):\n",
      " #   Column             Non-Null Count  Dtype  \n",
      "---  ------             --------------  -----  \n",
      " 0   GDP                370 non-null    float64\n",
      " 1   Inflation Rate     370 non-null    float64\n",
      " 2   Population Growth  363 non-null    float64\n",
      " 3   Export             370 non-null    float64\n",
      " 4   Import             370 non-null    float64\n",
      "dtypes: float64(5)\n",
      "memory usage: 25.1+ KB\n"
     ]
    }
   ],
   "source": [
    "df.info()"
   ]
  },
  {
   "cell_type": "code",
   "execution_count": 5,
   "id": "4b453c66-4b24-47a7-9d0c-81907399975a",
   "metadata": {},
   "outputs": [
    {
     "data": {
      "text/plain": [
       "GDP                  0\n",
       "Inflation Rate       0\n",
       "Population Growth    7\n",
       "Export               0\n",
       "Import               0\n",
       "dtype: int64"
      ]
     },
     "execution_count": 5,
     "metadata": {},
     "output_type": "execute_result"
    }
   ],
   "source": [
    "df.isnull().sum()"
   ]
  },
  {
   "cell_type": "code",
   "execution_count": 6,
   "id": "7cff922a-396b-435e-9a0f-f78a89c51055",
   "metadata": {},
   "outputs": [
    {
     "data": {
      "text/html": [
       "<div>\n",
       "<style scoped>\n",
       "    .dataframe tbody tr th:only-of-type {\n",
       "        vertical-align: middle;\n",
       "    }\n",
       "\n",
       "    .dataframe tbody tr th {\n",
       "        vertical-align: top;\n",
       "    }\n",
       "\n",
       "    .dataframe thead th {\n",
       "        text-align: right;\n",
       "    }\n",
       "</style>\n",
       "<table border=\"1\" class=\"dataframe\">\n",
       "  <thead>\n",
       "    <tr style=\"text-align: right;\">\n",
       "      <th></th>\n",
       "      <th>GDP</th>\n",
       "      <th>Inflation Rate</th>\n",
       "      <th>Population Growth</th>\n",
       "      <th>Export</th>\n",
       "      <th>Import</th>\n",
       "    </tr>\n",
       "  </thead>\n",
       "  <tbody>\n",
       "    <tr>\n",
       "      <th>count</th>\n",
       "      <td>370.000000</td>\n",
       "      <td>370.000000</td>\n",
       "      <td>3.630000e+02</td>\n",
       "      <td>3.700000e+02</td>\n",
       "      <td>3.700000e+02</td>\n",
       "    </tr>\n",
       "    <tr>\n",
       "      <th>mean</th>\n",
       "      <td>121.997089</td>\n",
       "      <td>3.206541</td>\n",
       "      <td>4.716399e+04</td>\n",
       "      <td>2.359491e+11</td>\n",
       "      <td>2.175717e+11</td>\n",
       "    </tr>\n",
       "    <tr>\n",
       "      <th>std</th>\n",
       "      <td>22.151628</td>\n",
       "      <td>5.953631</td>\n",
       "      <td>2.004360e+05</td>\n",
       "      <td>3.380373e+11</td>\n",
       "      <td>3.042575e+11</td>\n",
       "    </tr>\n",
       "    <tr>\n",
       "      <th>min</th>\n",
       "      <td>78.070000</td>\n",
       "      <td>-1.700000</td>\n",
       "      <td>-9.138450e+05</td>\n",
       "      <td>1.240041e+09</td>\n",
       "      <td>2.455987e+09</td>\n",
       "    </tr>\n",
       "    <tr>\n",
       "      <th>25%</th>\n",
       "      <td>108.692750</td>\n",
       "      <td>0.400000</td>\n",
       "      <td>-1.456300e+04</td>\n",
       "      <td>2.322346e+10</td>\n",
       "      <td>2.314052e+10</td>\n",
       "    </tr>\n",
       "    <tr>\n",
       "      <th>50%</th>\n",
       "      <td>117.208000</td>\n",
       "      <td>1.600000</td>\n",
       "      <td>8.002000e+03</td>\n",
       "      <td>1.064080e+11</td>\n",
       "      <td>1.039878e+11</td>\n",
       "    </tr>\n",
       "    <tr>\n",
       "      <th>75%</th>\n",
       "      <td>130.864500</td>\n",
       "      <td>3.400000</td>\n",
       "      <td>5.536350e+04</td>\n",
       "      <td>2.940090e+11</td>\n",
       "      <td>2.724310e+11</td>\n",
       "    </tr>\n",
       "    <tr>\n",
       "      <th>max</th>\n",
       "      <td>240.036000</td>\n",
       "      <td>72.300000</td>\n",
       "      <td>1.193357e+06</td>\n",
       "      <td>1.964262e+12</td>\n",
       "      <td>1.802155e+12</td>\n",
       "    </tr>\n",
       "  </tbody>\n",
       "</table>\n",
       "</div>"
      ],
      "text/plain": [
       "              GDP  Inflation Rate  Population Growth        Export  \\\n",
       "count  370.000000      370.000000       3.630000e+02  3.700000e+02   \n",
       "mean   121.997089        3.206541       4.716399e+04  2.359491e+11   \n",
       "std     22.151628        5.953631       2.004360e+05  3.380373e+11   \n",
       "min     78.070000       -1.700000      -9.138450e+05  1.240041e+09   \n",
       "25%    108.692750        0.400000      -1.456300e+04  2.322346e+10   \n",
       "50%    117.208000        1.600000       8.002000e+03  1.064080e+11   \n",
       "75%    130.864500        3.400000       5.536350e+04  2.940090e+11   \n",
       "max    240.036000       72.300000       1.193357e+06  1.964262e+12   \n",
       "\n",
       "             Import  \n",
       "count  3.700000e+02  \n",
       "mean   2.175717e+11  \n",
       "std    3.042575e+11  \n",
       "min    2.455987e+09  \n",
       "25%    2.314052e+10  \n",
       "50%    1.039878e+11  \n",
       "75%    2.724310e+11  \n",
       "max    1.802155e+12  "
      ]
     },
     "execution_count": 6,
     "metadata": {},
     "output_type": "execute_result"
    }
   ],
   "source": [
    "df.describe()"
   ]
  },
  {
   "cell_type": "code",
   "execution_count": 7,
   "id": "22eb979c-76d9-43cd-8da5-b01b906f19f6",
   "metadata": {},
   "outputs": [],
   "source": [
    "contries = [\n",
    "    \"Belgium\", \"Bulgaria\", \"Czechia\", \"Denmark\", \"Germany\", \"Estonia\", \"Ireland\",\n",
    "    \"Greece\", \"Spain\", \"France\", \"Croatia\", \"Italy\", \"Cyprus\", \"Latvia\", \"Lithuania\",\n",
    "    \"Luxembourg\", \"Hungary\", \"Malta\", \"Netherlands\", \"Austria\", \"Poland\", \"Portugal\",\n",
    "    \"Romania\", \"Slovenia\", \"Slovakia\", \"Finland\", \"Sweden\", \"Iceland\", \"Norway\",\n",
    "    \"Switzerland\", \"Bosnia and Herzegovina\", \"Montenegro\",\n",
    "    \"North Macedonia\", \"Albania\", \"Serbia\", \"Turkiye\", \"Kosovo\"\n",
    "]"
   ]
  },
  {
   "cell_type": "code",
   "execution_count": 8,
   "id": "28aaa94e-d5d8-47fe-a295-161287dcc30b",
   "metadata": {},
   "outputs": [
    {
     "data": {
      "text/plain": [
       "GDP                  1.150970e+02\n",
       "Inflation Rate       3.400000e+00\n",
       "Population Growth    5.250970e+05\n",
       "Export               6.165945e+11\n",
       "Import               5.529770e+11\n",
       "Name: (2023, Spain), dtype: float64"
      ]
     },
     "execution_count": 8,
     "metadata": {},
     "output_type": "execute_result"
    }
   ],
   "source": [
    "filtered_data = df.loc[(2023,\"Spain\"), :]\n",
    "filtered_data"
   ]
  },
  {
   "cell_type": "code",
   "execution_count": 9,
   "id": "8d410b55-b554-4a12-9189-d14315b2e8f4",
   "metadata": {},
   "outputs": [
    {
     "data": {
      "image/png": "[encoded data removed]",
      "text/plain": [
       "<Figure size 1200x800 with 2 Axes>"
      ]
     },
     "metadata": {},
     "output_type": "display_data"
    }
   ],
   "source": [
    "import matplotlib.pyplot as plt\n",
    "import seaborn as sns\n",
    "plt.figure(figsize=(12, 8))\n",
    "sns.heatmap(df.corr(), annot=True, cmap=\"coolwarm\", fmt=\".2f\")\n",
    "plt.title(\"Correlation Heatmap\")\n",
    "plt.savefig(\"heatmap.png\", dpi=300, bbox_inches=\"tight\")\n",
    "plt.show()\n"
   ]
  },
  {
   "cell_type": "code",
   "execution_count": 10,
   "id": "3550f24f-1b6c-48e5-94ed-8477c0f4c390",
   "metadata": {},
   "outputs": [
    {
     "data": {
      "image/png": "[encoded data removed]",
      "text/plain": [
       "<Figure size 1500x1000 with 6 Axes>"
      ]
     },
     "metadata": {},
     "output_type": "display_data"
    }
   ],
   "source": [
    "df.hist(figsize=(15, 10), bins=10, edgecolor='black')\n",
    "plt.tight_layout()\n",
    "plt.savefig(\"hist.png\", dpi=300, bbox_inches=\"tight\")\n",
    "plt.show()"
   ]
  },
  {
   "cell_type": "markdown",
   "id": "93c12dfd-e904-48e4-976e-56c88b28575d",
   "metadata": {},
   "source": [
    "# Preprocessing"
   ]
  },
  {
   "cell_type": "code",
   "execution_count": 11,
   "id": "7c78dcf8-3173-40b8-a503-34dbe5ef8d69",
   "metadata": {},
   "outputs": [
    {
     "data": {
      "text/html": [
       "<div>\n",
       "<style scoped>\n",
       "    .dataframe tbody tr th:only-of-type {\n",
       "        vertical-align: middle;\n",
       "    }\n",
       "\n",
       "    .dataframe tbody tr th {\n",
       "        vertical-align: top;\n",
       "    }\n",
       "\n",
       "    .dataframe thead th {\n",
       "        text-align: right;\n",
       "    }\n",
       "</style>\n",
       "<table border=\"1\" class=\"dataframe\">\n",
       "  <thead>\n",
       "    <tr style=\"text-align: right;\">\n",
       "      <th></th>\n",
       "      <th></th>\n",
       "      <th>GDP</th>\n",
       "      <th>Inflation Rate</th>\n",
       "      <th>Population Growth</th>\n",
       "      <th>Export</th>\n",
       "      <th>Import</th>\n",
       "    </tr>\n",
       "    <tr>\n",
       "      <th>Time</th>\n",
       "      <th>Country</th>\n",
       "      <th></th>\n",
       "      <th></th>\n",
       "      <th></th>\n",
       "      <th></th>\n",
       "      <th></th>\n",
       "    </tr>\n",
       "  </thead>\n",
       "  <tbody>\n",
       "    <tr>\n",
       "      <th rowspan=\"5\" valign=\"top\">2014</th>\n",
       "      <th>Belgium</th>\n",
       "      <td>104.272</td>\n",
       "      <td>0.5</td>\n",
       "      <td>56434.0</td>\n",
       "      <td>4.271433e+11</td>\n",
       "      <td>4.259520e+11</td>\n",
       "    </tr>\n",
       "    <tr>\n",
       "      <th>Bulgaria</th>\n",
       "      <td>103.268</td>\n",
       "      <td>-1.6</td>\n",
       "      <td>-87763.0</td>\n",
       "      <td>3.689581e+10</td>\n",
       "      <td>3.755127e+10</td>\n",
       "    </tr>\n",
       "    <tr>\n",
       "      <th>Czechia</th>\n",
       "      <td>103.212</td>\n",
       "      <td>0.4</td>\n",
       "      <td>25856.0</td>\n",
       "      <td>1.715785e+11</td>\n",
       "      <td>1.583186e+11</td>\n",
       "    </tr>\n",
       "    <tr>\n",
       "      <th>Denmark</th>\n",
       "      <td>104.029</td>\n",
       "      <td>0.4</td>\n",
       "      <td>32480.0</td>\n",
       "      <td>1.934701e+11</td>\n",
       "      <td>1.706914e+11</td>\n",
       "    </tr>\n",
       "    <tr>\n",
       "      <th>Germany</th>\n",
       "      <td>106.923</td>\n",
       "      <td>0.8</td>\n",
       "      <td>430074.0</td>\n",
       "      <td>1.653100e+12</td>\n",
       "      <td>1.393838e+12</td>\n",
       "    </tr>\n",
       "    <tr>\n",
       "      <th>...</th>\n",
       "      <th>...</th>\n",
       "      <td>...</td>\n",
       "      <td>...</td>\n",
       "      <td>...</td>\n",
       "      <td>...</td>\n",
       "      <td>...</td>\n",
       "    </tr>\n",
       "    <tr>\n",
       "      <th rowspan=\"5\" valign=\"top\">2023</th>\n",
       "      <th>North Macedonia</th>\n",
       "      <td>131.036</td>\n",
       "      <td>9.0</td>\n",
       "      <td>-3707.0</td>\n",
       "      <td>1.069052e+10</td>\n",
       "      <td>1.274551e+10</td>\n",
       "    </tr>\n",
       "    <tr>\n",
       "      <th>Albania</th>\n",
       "      <td>158.601</td>\n",
       "      <td>5.3</td>\n",
       "      <td>NaN</td>\n",
       "      <td>9.104536e+09</td>\n",
       "      <td>1.032040e+10</td>\n",
       "    </tr>\n",
       "    <tr>\n",
       "      <th>Serbia</th>\n",
       "      <td>131.057</td>\n",
       "      <td>12.1</td>\n",
       "      <td>-36029.0</td>\n",
       "      <td>4.479989e+10</td>\n",
       "      <td>4.833253e+10</td>\n",
       "    </tr>\n",
       "    <tr>\n",
       "      <th>Turkiye</th>\n",
       "      <td>204.414</td>\n",
       "      <td>54.0</td>\n",
       "      <td>92824.0</td>\n",
       "      <td>3.568998e+11</td>\n",
       "      <td>3.842403e+11</td>\n",
       "    </tr>\n",
       "    <tr>\n",
       "      <th>Kosovo</th>\n",
       "      <td>170.061</td>\n",
       "      <td>4.9</td>\n",
       "      <td>NaN</td>\n",
       "      <td>4.149652e+09</td>\n",
       "      <td>7.360350e+09</td>\n",
       "    </tr>\n",
       "  </tbody>\n",
       "</table>\n",
       "<p>370 rows × 5 columns</p>\n",
       "</div>"
      ],
      "text/plain": [
       "                          GDP  Inflation Rate  Population Growth  \\\n",
       "Time Country                                                       \n",
       "2014 Belgium          104.272             0.5            56434.0   \n",
       "     Bulgaria         103.268            -1.6           -87763.0   \n",
       "     Czechia          103.212             0.4            25856.0   \n",
       "     Denmark          104.029             0.4            32480.0   \n",
       "     Germany          106.923             0.8           430074.0   \n",
       "...                       ...             ...                ...   \n",
       "2023 North Macedonia  131.036             9.0            -3707.0   \n",
       "     Albania          158.601             5.3                NaN   \n",
       "     Serbia           131.057            12.1           -36029.0   \n",
       "     Turkiye          204.414            54.0            92824.0   \n",
       "     Kosovo           170.061             4.9                NaN   \n",
       "\n",
       "                            Export        Import  \n",
       "Time Country                                      \n",
       "2014 Belgium          4.271433e+11  4.259520e+11  \n",
       "     Bulgaria         3.689581e+10  3.755127e+10  \n",
       "     Czechia          1.715785e+11  1.583186e+11  \n",
       "     Denmark          1.934701e+11  1.706914e+11  \n",
       "     Germany          1.653100e+12  1.393838e+12  \n",
       "...                            ...           ...  \n",
       "2023 North Macedonia  1.069052e+10  1.274551e+10  \n",
       "     Albania          9.104536e+09  1.032040e+10  \n",
       "     Serbia           4.479989e+10  4.833253e+10  \n",
       "     Turkiye          3.568998e+11  3.842403e+11  \n",
       "     Kosovo           4.149652e+09  7.360350e+09  \n",
       "\n",
       "[370 rows x 5 columns]"
      ]
     },
     "execution_count": 11,
     "metadata": {},
     "output_type": "execute_result"
    }
   ],
   "source": [
    "df"
   ]
  },
  {
   "cell_type": "markdown",
   "id": "10d4cdb1-9006-48fc-ba57-00a0e36e0fa4",
   "metadata": {},
   "source": [
    "# Scaling the data"
   ]
  },
  {
   "cell_type": "code",
   "execution_count": 12,
   "id": "cc2af547-eefe-4ff5-acf4-7f67b36f746b",
   "metadata": {},
   "outputs": [],
   "source": [
    "from sklearn.preprocessing import StandardScaler\n",
    "columns = df.columns\n",
    "scaler = StandardScaler()\n",
    "df[columns] = scaler.fit_transform(df[columns])"
   ]
  },
  {
   "cell_type": "code",
   "execution_count": 13,
   "id": "952843aa-7ed9-46b9-bb65-82e72d09952a",
   "metadata": {},
   "outputs": [
    {
     "data": {
      "text/html": [
       "<div>\n",
       "<style scoped>\n",
       "    .dataframe tbody tr th:only-of-type {\n",
       "        vertical-align: middle;\n",
       "    }\n",
       "\n",
       "    .dataframe tbody tr th {\n",
       "        vertical-align: top;\n",
       "    }\n",
       "\n",
       "    .dataframe thead th {\n",
       "        text-align: right;\n",
       "    }\n",
       "</style>\n",
       "<table border=\"1\" class=\"dataframe\">\n",
       "  <thead>\n",
       "    <tr style=\"text-align: right;\">\n",
       "      <th></th>\n",
       "      <th></th>\n",
       "      <th>GDP</th>\n",
       "      <th>Inflation Rate</th>\n",
       "      <th>Population Growth</th>\n",
       "      <th>Export</th>\n",
       "      <th>Import</th>\n",
       "    </tr>\n",
       "    <tr>\n",
       "      <th>Time</th>\n",
       "      <th>Country</th>\n",
       "      <th></th>\n",
       "      <th></th>\n",
       "      <th></th>\n",
       "      <th></th>\n",
       "      <th></th>\n",
       "    </tr>\n",
       "  </thead>\n",
       "  <tbody>\n",
       "    <tr>\n",
       "      <th rowspan=\"5\" valign=\"top\">2014</th>\n",
       "      <th>Belgium</th>\n",
       "      <td>-0.801254</td>\n",
       "      <td>-0.455219</td>\n",
       "      <td>0.046313</td>\n",
       "      <td>0.566367</td>\n",
       "      <td>0.685809</td>\n",
       "    </tr>\n",
       "    <tr>\n",
       "      <th>Bulgaria</th>\n",
       "      <td>-0.846640</td>\n",
       "      <td>-0.808423</td>\n",
       "      <td>-0.674097</td>\n",
       "      <td>-0.589647</td>\n",
       "      <td>-0.592472</td>\n",
       "    </tr>\n",
       "    <tr>\n",
       "      <th>Czechia</th>\n",
       "      <td>-0.849171</td>\n",
       "      <td>-0.472038</td>\n",
       "      <td>-0.106455</td>\n",
       "      <td>-0.190682</td>\n",
       "      <td>-0.195010</td>\n",
       "    </tr>\n",
       "    <tr>\n",
       "      <th>Denmark</th>\n",
       "      <td>-0.812239</td>\n",
       "      <td>-0.472038</td>\n",
       "      <td>-0.073361</td>\n",
       "      <td>-0.125834</td>\n",
       "      <td>-0.154290</td>\n",
       "    </tr>\n",
       "    <tr>\n",
       "      <th>Germany</th>\n",
       "      <td>-0.681417</td>\n",
       "      <td>-0.404761</td>\n",
       "      <td>1.913022</td>\n",
       "      <td>4.197969</td>\n",
       "      <td>3.871256</td>\n",
       "    </tr>\n",
       "    <tr>\n",
       "      <th>...</th>\n",
       "      <th>...</th>\n",
       "      <td>...</td>\n",
       "      <td>...</td>\n",
       "      <td>...</td>\n",
       "      <td>...</td>\n",
       "      <td>...</td>\n",
       "    </tr>\n",
       "    <tr>\n",
       "      <th rowspan=\"5\" valign=\"top\">2023</th>\n",
       "      <th>North Macedonia</th>\n",
       "      <td>0.408600</td>\n",
       "      <td>0.974415</td>\n",
       "      <td>-0.254152</td>\n",
       "      <td>-0.667274</td>\n",
       "      <td>-0.674112</td>\n",
       "    </tr>\n",
       "    <tr>\n",
       "      <th>Albania</th>\n",
       "      <td>1.654663</td>\n",
       "      <td>0.352104</td>\n",
       "      <td>NaN</td>\n",
       "      <td>-0.671972</td>\n",
       "      <td>-0.682093</td>\n",
       "    </tr>\n",
       "    <tr>\n",
       "      <th>Serbia</th>\n",
       "      <td>0.409549</td>\n",
       "      <td>1.495810</td>\n",
       "      <td>-0.415633</td>\n",
       "      <td>-0.566233</td>\n",
       "      <td>-0.556990</td>\n",
       "    </tr>\n",
       "    <tr>\n",
       "      <th>Turkiye</th>\n",
       "      <td>3.725618</td>\n",
       "      <td>8.543063</td>\n",
       "      <td>0.228118</td>\n",
       "      <td>0.358287</td>\n",
       "      <td>0.548530</td>\n",
       "    </tr>\n",
       "    <tr>\n",
       "      <th>Kosovo</th>\n",
       "      <td>2.172707</td>\n",
       "      <td>0.284827</td>\n",
       "      <td>NaN</td>\n",
       "      <td>-0.686650</td>\n",
       "      <td>-0.691835</td>\n",
       "    </tr>\n",
       "  </tbody>\n",
       "</table>\n",
       "<p>370 rows × 5 columns</p>\n",
       "</div>"
      ],
      "text/plain": [
       "                           GDP  Inflation Rate  Population Growth    Export  \\\n",
       "Time Country                                                                  \n",
       "2014 Belgium         -0.801254       -0.455219           0.046313  0.566367   \n",
       "     Bulgaria        -0.846640       -0.808423          -0.674097 -0.589647   \n",
       "     Czechia         -0.849171       -0.472038          -0.106455 -0.190682   \n",
       "     Denmark         -0.812239       -0.472038          -0.073361 -0.125834   \n",
       "     Germany         -0.681417       -0.404761           1.913022  4.197969   \n",
       "...                        ...             ...                ...       ...   \n",
       "2023 North Macedonia  0.408600        0.974415          -0.254152 -0.667274   \n",
       "     Albania          1.654663        0.352104                NaN -0.671972   \n",
       "     Serbia           0.409549        1.495810          -0.415633 -0.566233   \n",
       "     Turkiye          3.725618        8.543063           0.228118  0.358287   \n",
       "     Kosovo           2.172707        0.284827                NaN -0.686650   \n",
       "\n",
       "                        Import  \n",
       "Time Country                    \n",
       "2014 Belgium          0.685809  \n",
       "     Bulgaria        -0.592472  \n",
       "     Czechia         -0.195010  \n",
       "     Denmark         -0.154290  \n",
       "     Germany          3.871256  \n",
       "...                        ...  \n",
       "2023 North Macedonia -0.674112  \n",
       "     Albania         -0.682093  \n",
       "     Serbia          -0.556990  \n",
       "     Turkiye          0.548530  \n",
       "     Kosovo          -0.691835  \n",
       "\n",
       "[370 rows x 5 columns]"
      ]
     },
     "execution_count": 13,
     "metadata": {},
     "output_type": "execute_result"
    }
   ],
   "source": [
    "df"
   ]
  },
  {
   "cell_type": "code",
   "execution_count": 14,
   "id": "f12dcf17-1962-4942-85bb-23af82a69b26",
   "metadata": {},
   "outputs": [],
   "source": [
    "from sklearn.preprocessing import StandardScaler\n",
    "columns = df.columns\n",
    "scaler = StandardScaler()\n",
    "df[columns] = scaler.fit_transform(df[columns])"
   ]
  },
  {
   "cell_type": "code",
   "execution_count": 15,
   "id": "776f43ad-ce2c-4056-9e11-89f7af29fb29",
   "metadata": {},
   "outputs": [
    {
     "data": {
      "text/html": [
       "<div>\n",
       "<style scoped>\n",
       "    .dataframe tbody tr th:only-of-type {\n",
       "        vertical-align: middle;\n",
       "    }\n",
       "\n",
       "    .dataframe tbody tr th {\n",
       "        vertical-align: top;\n",
       "    }\n",
       "\n",
       "    .dataframe thead th {\n",
       "        text-align: right;\n",
       "    }\n",
       "</style>\n",
       "<table border=\"1\" class=\"dataframe\">\n",
       "  <thead>\n",
       "    <tr style=\"text-align: right;\">\n",
       "      <th></th>\n",
       "      <th></th>\n",
       "      <th>GDP</th>\n",
       "      <th>Inflation Rate</th>\n",
       "      <th>Population Growth</th>\n",
       "      <th>Export</th>\n",
       "      <th>Import</th>\n",
       "    </tr>\n",
       "    <tr>\n",
       "      <th>Time</th>\n",
       "      <th>Country</th>\n",
       "      <th></th>\n",
       "      <th></th>\n",
       "      <th></th>\n",
       "      <th></th>\n",
       "      <th></th>\n",
       "    </tr>\n",
       "  </thead>\n",
       "  <tbody>\n",
       "    <tr>\n",
       "      <th rowspan=\"5\" valign=\"top\">2014</th>\n",
       "      <th>Belgium</th>\n",
       "      <td>-0.801254</td>\n",
       "      <td>-0.455219</td>\n",
       "      <td>0.046313</td>\n",
       "      <td>0.566367</td>\n",
       "      <td>0.685809</td>\n",
       "    </tr>\n",
       "    <tr>\n",
       "      <th>Bulgaria</th>\n",
       "      <td>-0.846640</td>\n",
       "      <td>-0.808423</td>\n",
       "      <td>-0.674097</td>\n",
       "      <td>-0.589647</td>\n",
       "      <td>-0.592472</td>\n",
       "    </tr>\n",
       "    <tr>\n",
       "      <th>Czechia</th>\n",
       "      <td>-0.849171</td>\n",
       "      <td>-0.472038</td>\n",
       "      <td>-0.106455</td>\n",
       "      <td>-0.190682</td>\n",
       "      <td>-0.195010</td>\n",
       "    </tr>\n",
       "    <tr>\n",
       "      <th>Denmark</th>\n",
       "      <td>-0.812239</td>\n",
       "      <td>-0.472038</td>\n",
       "      <td>-0.073361</td>\n",
       "      <td>-0.125834</td>\n",
       "      <td>-0.154290</td>\n",
       "    </tr>\n",
       "    <tr>\n",
       "      <th>Germany</th>\n",
       "      <td>-0.681417</td>\n",
       "      <td>-0.404761</td>\n",
       "      <td>1.913022</td>\n",
       "      <td>4.197969</td>\n",
       "      <td>3.871256</td>\n",
       "    </tr>\n",
       "    <tr>\n",
       "      <th>...</th>\n",
       "      <th>...</th>\n",
       "      <td>...</td>\n",
       "      <td>...</td>\n",
       "      <td>...</td>\n",
       "      <td>...</td>\n",
       "      <td>...</td>\n",
       "    </tr>\n",
       "    <tr>\n",
       "      <th rowspan=\"5\" valign=\"top\">2023</th>\n",
       "      <th>North Macedonia</th>\n",
       "      <td>0.408600</td>\n",
       "      <td>0.974415</td>\n",
       "      <td>-0.254152</td>\n",
       "      <td>-0.667274</td>\n",
       "      <td>-0.674112</td>\n",
       "    </tr>\n",
       "    <tr>\n",
       "      <th>Albania</th>\n",
       "      <td>1.654663</td>\n",
       "      <td>0.352104</td>\n",
       "      <td>NaN</td>\n",
       "      <td>-0.671972</td>\n",
       "      <td>-0.682093</td>\n",
       "    </tr>\n",
       "    <tr>\n",
       "      <th>Serbia</th>\n",
       "      <td>0.409549</td>\n",
       "      <td>1.495810</td>\n",
       "      <td>-0.415633</td>\n",
       "      <td>-0.566233</td>\n",
       "      <td>-0.556990</td>\n",
       "    </tr>\n",
       "    <tr>\n",
       "      <th>Turkiye</th>\n",
       "      <td>3.725618</td>\n",
       "      <td>8.543063</td>\n",
       "      <td>0.228118</td>\n",
       "      <td>0.358287</td>\n",
       "      <td>0.548530</td>\n",
       "    </tr>\n",
       "    <tr>\n",
       "      <th>Kosovo</th>\n",
       "      <td>2.172707</td>\n",
       "      <td>0.284827</td>\n",
       "      <td>NaN</td>\n",
       "      <td>-0.686650</td>\n",
       "      <td>-0.691835</td>\n",
       "    </tr>\n",
       "  </tbody>\n",
       "</table>\n",
       "<p>370 rows × 5 columns</p>\n",
       "</div>"
      ],
      "text/plain": [
       "                           GDP  Inflation Rate  Population Growth    Export  \\\n",
       "Time Country                                                                  \n",
       "2014 Belgium         -0.801254       -0.455219           0.046313  0.566367   \n",
       "     Bulgaria        -0.846640       -0.808423          -0.674097 -0.589647   \n",
       "     Czechia         -0.849171       -0.472038          -0.106455 -0.190682   \n",
       "     Denmark         -0.812239       -0.472038          -0.073361 -0.125834   \n",
       "     Germany         -0.681417       -0.404761           1.913022  4.197969   \n",
       "...                        ...             ...                ...       ...   \n",
       "2023 North Macedonia  0.408600        0.974415          -0.254152 -0.667274   \n",
       "     Albania          1.654663        0.352104                NaN -0.671972   \n",
       "     Serbia           0.409549        1.495810          -0.415633 -0.566233   \n",
       "     Turkiye          3.725618        8.543063           0.228118  0.358287   \n",
       "     Kosovo           2.172707        0.284827                NaN -0.686650   \n",
       "\n",
       "                        Import  \n",
       "Time Country                    \n",
       "2014 Belgium          0.685809  \n",
       "     Bulgaria        -0.592472  \n",
       "     Czechia         -0.195010  \n",
       "     Denmark         -0.154290  \n",
       "     Germany          3.871256  \n",
       "...                        ...  \n",
       "2023 North Macedonia -0.674112  \n",
       "     Albania         -0.682093  \n",
       "     Serbia          -0.556990  \n",
       "     Turkiye          0.548530  \n",
       "     Kosovo          -0.691835  \n",
       "\n",
       "[370 rows x 5 columns]"
      ]
     },
     "execution_count": 15,
     "metadata": {},
     "output_type": "execute_result"
    }
   ],
   "source": [
    "df"
   ]
  },
  {
   "cell_type": "code",
   "execution_count": 16,
   "id": "2e6c98cd-8651-45aa-878f-5144a51de492",
   "metadata": {},
   "outputs": [
    {
     "data": {
      "text/html": [
       "<div>\n",
       "<style scoped>\n",
       "    .dataframe tbody tr th:only-of-type {\n",
       "        vertical-align: middle;\n",
       "    }\n",
       "\n",
       "    .dataframe tbody tr th {\n",
       "        vertical-align: top;\n",
       "    }\n",
       "\n",
       "    .dataframe thead th {\n",
       "        text-align: right;\n",
       "    }\n",
       "</style>\n",
       "<table border=\"1\" class=\"dataframe\">\n",
       "  <thead>\n",
       "    <tr style=\"text-align: right;\">\n",
       "      <th></th>\n",
       "      <th>GDP</th>\n",
       "      <th>Inflation Rate</th>\n",
       "      <th>Population Growth</th>\n",
       "      <th>Export</th>\n",
       "      <th>Import</th>\n",
       "    </tr>\n",
       "  </thead>\n",
       "  <tbody>\n",
       "    <tr>\n",
       "      <th>count</th>\n",
       "      <td>370.000000</td>\n",
       "      <td>370.000000</td>\n",
       "      <td>3.630000e+02</td>\n",
       "      <td>3.700000e+02</td>\n",
       "      <td>3.700000e+02</td>\n",
       "    </tr>\n",
       "    <tr>\n",
       "      <th>mean</th>\n",
       "      <td>0.000000</td>\n",
       "      <td>0.000000</td>\n",
       "      <td>-2.446773e-18</td>\n",
       "      <td>4.800964e-18</td>\n",
       "      <td>-2.880579e-17</td>\n",
       "    </tr>\n",
       "    <tr>\n",
       "      <th>std</th>\n",
       "      <td>1.001354</td>\n",
       "      <td>1.001354</td>\n",
       "      <td>1.001380e+00</td>\n",
       "      <td>1.001354e+00</td>\n",
       "      <td>1.001354e+00</td>\n",
       "    </tr>\n",
       "    <tr>\n",
       "      <th>min</th>\n",
       "      <td>-1.985704</td>\n",
       "      <td>-0.825242</td>\n",
       "      <td>-4.801211e+00</td>\n",
       "      <td>-6.952690e-01</td>\n",
       "      <td>-7.079759e-01</td>\n",
       "    </tr>\n",
       "    <tr>\n",
       "      <th>25%</th>\n",
       "      <td>-0.601416</td>\n",
       "      <td>-0.472038</td>\n",
       "      <td>-3.083887e-01</td>\n",
       "      <td>-6.301485e-01</td>\n",
       "      <td>-6.399002e-01</td>\n",
       "    </tr>\n",
       "    <tr>\n",
       "      <th>50%</th>\n",
       "      <td>-0.216489</td>\n",
       "      <td>-0.270208</td>\n",
       "      <td>-1.956537e-01</td>\n",
       "      <td>-3.837342e-01</td>\n",
       "      <td>-3.738205e-01</td>\n",
       "    </tr>\n",
       "    <tr>\n",
       "      <th>75%</th>\n",
       "      <td>0.400847</td>\n",
       "      <td>0.032538</td>\n",
       "      <td>4.096484e-02</td>\n",
       "      <td>1.719887e-01</td>\n",
       "      <td>1.805496e-01</td>\n",
       "    </tr>\n",
       "    <tr>\n",
       "      <th>max</th>\n",
       "      <td>5.335894</td>\n",
       "      <td>11.620979</td>\n",
       "      <td>5.726392e+00</td>\n",
       "      <td>5.119710e+00</td>\n",
       "      <td>5.215085e+00</td>\n",
       "    </tr>\n",
       "  </tbody>\n",
       "</table>\n",
       "</div>"
      ],
      "text/plain": [
       "              GDP  Inflation Rate  Population Growth        Export  \\\n",
       "count  370.000000      370.000000       3.630000e+02  3.700000e+02   \n",
       "mean     0.000000        0.000000      -2.446773e-18  4.800964e-18   \n",
       "std      1.001354        1.001354       1.001380e+00  1.001354e+00   \n",
       "min     -1.985704       -0.825242      -4.801211e+00 -6.952690e-01   \n",
       "25%     -0.601416       -0.472038      -3.083887e-01 -6.301485e-01   \n",
       "50%     -0.216489       -0.270208      -1.956537e-01 -3.837342e-01   \n",
       "75%      0.400847        0.032538       4.096484e-02  1.719887e-01   \n",
       "max      5.335894       11.620979       5.726392e+00  5.119710e+00   \n",
       "\n",
       "             Import  \n",
       "count  3.700000e+02  \n",
       "mean  -2.880579e-17  \n",
       "std    1.001354e+00  \n",
       "min   -7.079759e-01  \n",
       "25%   -6.399002e-01  \n",
       "50%   -3.738205e-01  \n",
       "75%    1.805496e-01  \n",
       "max    5.215085e+00  "
      ]
     },
     "execution_count": 16,
     "metadata": {},
     "output_type": "execute_result"
    }
   ],
   "source": [
    "df.describe()"
   ]
  },
  {
   "cell_type": "markdown",
   "id": "f1331baa-d76b-4761-a05d-723d7c0c6913",
   "metadata": {},
   "source": [
    "# Handeling missing values"
   ]
  },
  {
   "cell_type": "code",
   "execution_count": 17,
   "id": "bd3876bc-d480-46e2-bfcd-420f0abe93e8",
   "metadata": {},
   "outputs": [
    {
     "data": {
      "text/plain": [
       "GDP                  0\n",
       "Inflation Rate       0\n",
       "Population Growth    7\n",
       "Export               0\n",
       "Import               0\n",
       "dtype: int64"
      ]
     },
     "execution_count": 17,
     "metadata": {},
     "output_type": "execute_result"
    }
   ],
   "source": [
    "df.isnull().sum()"
   ]
  },
  {
   "cell_type": "code",
   "execution_count": 18,
   "id": "0e1b5df1-490f-4c69-a3a6-25bff6ef2d58",
   "metadata": {},
   "outputs": [],
   "source": [
    "from sklearn.impute import KNNImputer\n",
    "\n",
    "imputer = KNNImputer(n_neighbors=5)  \n",
    "\n",
    "df[df.columns] = imputer.fit_transform(df[df.columns])"
   ]
  },
  {
   "cell_type": "code",
   "execution_count": 19,
   "id": "e30c986c-064d-4e76-9a64-237c214525ef",
   "metadata": {},
   "outputs": [
    {
     "data": {
      "text/plain": [
       "GDP                  0\n",
       "Inflation Rate       0\n",
       "Population Growth    0\n",
       "Export               0\n",
       "Import               0\n",
       "dtype: int64"
      ]
     },
     "execution_count": 19,
     "metadata": {},
     "output_type": "execute_result"
    }
   ],
   "source": [
    "df.isnull().sum()"
   ]
  },
  {
   "cell_type": "markdown",
   "id": "cd84ef22-74cd-42a4-ae44-b802c70ef443",
   "metadata": {},
   "source": [
    "# Training model for Belgium"
   ]
  },
  {
   "cell_type": "code",
   "execution_count": 20,
   "id": "53f14c01-b8e5-48d1-a15c-c6d268529786",
   "metadata": {},
   "outputs": [],
   "source": [
    "years = [2014, 2015, 2016, 2017, 2018, 2018, 2019, 2020, 2021, 2022, 2023]"
   ]
  },
  {
   "cell_type": "code",
   "execution_count": 21,
   "id": "8e587c3e-d34f-46f0-8735-b8632a552c8e",
   "metadata": {},
   "outputs": [
    {
     "data": {
      "text/html": [
       "<div>\n",
       "<style scoped>\n",
       "    .dataframe tbody tr th:only-of-type {\n",
       "        vertical-align: middle;\n",
       "    }\n",
       "\n",
       "    .dataframe tbody tr th {\n",
       "        vertical-align: top;\n",
       "    }\n",
       "\n",
       "    .dataframe thead th {\n",
       "        text-align: right;\n",
       "    }\n",
       "</style>\n",
       "<table border=\"1\" class=\"dataframe\">\n",
       "  <thead>\n",
       "    <tr style=\"text-align: right;\">\n",
       "      <th></th>\n",
       "      <th></th>\n",
       "      <th>GDP</th>\n",
       "      <th>Inflation Rate</th>\n",
       "      <th>Population Growth</th>\n",
       "      <th>Export</th>\n",
       "      <th>Import</th>\n",
       "    </tr>\n",
       "    <tr>\n",
       "      <th>Time</th>\n",
       "      <th>Country</th>\n",
       "      <th></th>\n",
       "      <th></th>\n",
       "      <th></th>\n",
       "      <th></th>\n",
       "      <th></th>\n",
       "    </tr>\n",
       "  </thead>\n",
       "  <tbody>\n",
       "    <tr>\n",
       "      <th>2014</th>\n",
       "      <th>Belgium</th>\n",
       "      <td>-0.801254</td>\n",
       "      <td>-0.455219</td>\n",
       "      <td>0.046313</td>\n",
       "      <td>0.566367</td>\n",
       "      <td>0.685809</td>\n",
       "    </tr>\n",
       "    <tr>\n",
       "      <th>2015</th>\n",
       "      <th>Belgium</th>\n",
       "      <td>-0.731775</td>\n",
       "      <td>-0.438400</td>\n",
       "      <td>0.133289</td>\n",
       "      <td>0.364661</td>\n",
       "      <td>0.455208</td>\n",
       "    </tr>\n",
       "    <tr>\n",
       "      <th>2016</th>\n",
       "      <th>Belgium</th>\n",
       "      <td>-0.674682</td>\n",
       "      <td>-0.236569</td>\n",
       "      <td>-0.032744</td>\n",
       "      <td>0.419625</td>\n",
       "      <td>0.523909</td>\n",
       "    </tr>\n",
       "    <tr>\n",
       "      <th>2017</th>\n",
       "      <th>Belgium</th>\n",
       "      <td>-0.603304</td>\n",
       "      <td>-0.169292</td>\n",
       "      <td>-0.001509</td>\n",
       "      <td>0.539224</td>\n",
       "      <td>0.659825</td>\n",
       "    </tr>\n",
       "    <tr>\n",
       "      <th>2018</th>\n",
       "      <th>Belgium</th>\n",
       "      <td>-0.511087</td>\n",
       "      <td>-0.152473</td>\n",
       "      <td>0.048791</td>\n",
       "      <td>0.642995</td>\n",
       "      <td>0.798289</td>\n",
       "    </tr>\n",
       "    <tr>\n",
       "      <th>2019</th>\n",
       "      <th>Belgium</th>\n",
       "      <td>-0.388853</td>\n",
       "      <td>-0.337484</td>\n",
       "      <td>0.098706</td>\n",
       "      <td>0.620176</td>\n",
       "      <td>0.741221</td>\n",
       "    </tr>\n",
       "    <tr>\n",
       "      <th>2020</th>\n",
       "      <th>Belgium</th>\n",
       "      <td>-0.634540</td>\n",
       "      <td>-0.472038</td>\n",
       "      <td>-0.074126</td>\n",
       "      <td>0.543730</td>\n",
       "      <td>0.639412</td>\n",
       "    </tr>\n",
       "    <tr>\n",
       "      <th>2021</th>\n",
       "      <th>Belgium</th>\n",
       "      <td>-0.331805</td>\n",
       "      <td>-0.001100</td>\n",
       "      <td>0.078397</td>\n",
       "      <td>0.890096</td>\n",
       "      <td>1.012588</td>\n",
       "    </tr>\n",
       "    <tr>\n",
       "      <th>2022</th>\n",
       "      <th>Belgium</th>\n",
       "      <td>-0.112383</td>\n",
       "      <td>1.193064</td>\n",
       "      <td>0.389734</td>\n",
       "      <td>0.975789</td>\n",
       "      <td>1.173136</td>\n",
       "    </tr>\n",
       "    <tr>\n",
       "      <th>2023</th>\n",
       "      <th>Belgium</th>\n",
       "      <td>-0.044757</td>\n",
       "      <td>-0.152473</td>\n",
       "      <td>0.210277</td>\n",
       "      <td>0.908601</td>\n",
       "      <td>1.082685</td>\n",
       "    </tr>\n",
       "  </tbody>\n",
       "</table>\n",
       "</div>"
      ],
      "text/plain": [
       "                   GDP  Inflation Rate  Population Growth    Export    Import\n",
       "Time Country                                                                 \n",
       "2014 Belgium -0.801254       -0.455219           0.046313  0.566367  0.685809\n",
       "2015 Belgium -0.731775       -0.438400           0.133289  0.364661  0.455208\n",
       "2016 Belgium -0.674682       -0.236569          -0.032744  0.419625  0.523909\n",
       "2017 Belgium -0.603304       -0.169292          -0.001509  0.539224  0.659825\n",
       "2018 Belgium -0.511087       -0.152473           0.048791  0.642995  0.798289\n",
       "2019 Belgium -0.388853       -0.337484           0.098706  0.620176  0.741221\n",
       "2020 Belgium -0.634540       -0.472038          -0.074126  0.543730  0.639412\n",
       "2021 Belgium -0.331805       -0.001100           0.078397  0.890096  1.012588\n",
       "2022 Belgium -0.112383        1.193064           0.389734  0.975789  1.173136\n",
       "2023 Belgium -0.044757       -0.152473           0.210277  0.908601  1.082685"
      ]
     },
     "execution_count": 21,
     "metadata": {},
     "output_type": "execute_result"
    }
   ],
   "source": [
    "Belgium_data = df.loc[(years,\"Belgium\"), :]\n",
    "Belgium_data"
   ]
  },
  {
   "cell_type": "code",
   "execution_count": 22,
   "id": "357c89ea-8355-4a5c-9b7f-964ea5efc65a",
   "metadata": {},
   "outputs": [],
   "source": [
    "Belgium_data = Belgium_data.reset_index(level = \"Country\" , drop = True)"
   ]
  },
  {
   "cell_type": "code",
   "execution_count": 23,
   "id": "71ca73d3-3827-4ce4-9b54-d26618050fdd",
   "metadata": {},
   "outputs": [
    {
     "data": {
      "text/html": [
       "<div>\n",
       "<style scoped>\n",
       "    .dataframe tbody tr th:only-of-type {\n",
       "        vertical-align: middle;\n",
       "    }\n",
       "\n",
       "    .dataframe tbody tr th {\n",
       "        vertical-align: top;\n",
       "    }\n",
       "\n",
       "    .dataframe thead th {\n",
       "        text-align: right;\n",
       "    }\n",
       "</style>\n",
       "<table border=\"1\" class=\"dataframe\">\n",
       "  <thead>\n",
       "    <tr style=\"text-align: right;\">\n",
       "      <th></th>\n",
       "      <th>GDP</th>\n",
       "      <th>Inflation Rate</th>\n",
       "      <th>Population Growth</th>\n",
       "      <th>Export</th>\n",
       "      <th>Import</th>\n",
       "    </tr>\n",
       "    <tr>\n",
       "      <th>Time</th>\n",
       "      <th></th>\n",
       "      <th></th>\n",
       "      <th></th>\n",
       "      <th></th>\n",
       "      <th></th>\n",
       "    </tr>\n",
       "  </thead>\n",
       "  <tbody>\n",
       "    <tr>\n",
       "      <th>2014</th>\n",
       "      <td>-0.801254</td>\n",
       "      <td>-0.455219</td>\n",
       "      <td>0.046313</td>\n",
       "      <td>0.566367</td>\n",
       "      <td>0.685809</td>\n",
       "    </tr>\n",
       "    <tr>\n",
       "      <th>2015</th>\n",
       "      <td>-0.731775</td>\n",
       "      <td>-0.438400</td>\n",
       "      <td>0.133289</td>\n",
       "      <td>0.364661</td>\n",
       "      <td>0.455208</td>\n",
       "    </tr>\n",
       "    <tr>\n",
       "      <th>2016</th>\n",
       "      <td>-0.674682</td>\n",
       "      <td>-0.236569</td>\n",
       "      <td>-0.032744</td>\n",
       "      <td>0.419625</td>\n",
       "      <td>0.523909</td>\n",
       "    </tr>\n",
       "    <tr>\n",
       "      <th>2017</th>\n",
       "      <td>-0.603304</td>\n",
       "      <td>-0.169292</td>\n",
       "      <td>-0.001509</td>\n",
       "      <td>0.539224</td>\n",
       "      <td>0.659825</td>\n",
       "    </tr>\n",
       "    <tr>\n",
       "      <th>2018</th>\n",
       "      <td>-0.511087</td>\n",
       "      <td>-0.152473</td>\n",
       "      <td>0.048791</td>\n",
       "      <td>0.642995</td>\n",
       "      <td>0.798289</td>\n",
       "    </tr>\n",
       "    <tr>\n",
       "      <th>2019</th>\n",
       "      <td>-0.388853</td>\n",
       "      <td>-0.337484</td>\n",
       "      <td>0.098706</td>\n",
       "      <td>0.620176</td>\n",
       "      <td>0.741221</td>\n",
       "    </tr>\n",
       "    <tr>\n",
       "      <th>2020</th>\n",
       "      <td>-0.634540</td>\n",
       "      <td>-0.472038</td>\n",
       "      <td>-0.074126</td>\n",
       "      <td>0.543730</td>\n",
       "      <td>0.639412</td>\n",
       "    </tr>\n",
       "    <tr>\n",
       "      <th>2021</th>\n",
       "      <td>-0.331805</td>\n",
       "      <td>-0.001100</td>\n",
       "      <td>0.078397</td>\n",
       "      <td>0.890096</td>\n",
       "      <td>1.012588</td>\n",
       "    </tr>\n",
       "    <tr>\n",
       "      <th>2022</th>\n",
       "      <td>-0.112383</td>\n",
       "      <td>1.193064</td>\n",
       "      <td>0.389734</td>\n",
       "      <td>0.975789</td>\n",
       "      <td>1.173136</td>\n",
       "    </tr>\n",
       "    <tr>\n",
       "      <th>2023</th>\n",
       "      <td>-0.044757</td>\n",
       "      <td>-0.152473</td>\n",
       "      <td>0.210277</td>\n",
       "      <td>0.908601</td>\n",
       "      <td>1.082685</td>\n",
       "    </tr>\n",
       "  </tbody>\n",
       "</table>\n",
       "</div>"
      ],
      "text/plain": [
       "           GDP  Inflation Rate  Population Growth    Export    Import\n",
       "Time                                                                 \n",
       "2014 -0.801254       -0.455219           0.046313  0.566367  0.685809\n",
       "2015 -0.731775       -0.438400           0.133289  0.364661  0.455208\n",
       "2016 -0.674682       -0.236569          -0.032744  0.419625  0.523909\n",
       "2017 -0.603304       -0.169292          -0.001509  0.539224  0.659825\n",
       "2018 -0.511087       -0.152473           0.048791  0.642995  0.798289\n",
       "2019 -0.388853       -0.337484           0.098706  0.620176  0.741221\n",
       "2020 -0.634540       -0.472038          -0.074126  0.543730  0.639412\n",
       "2021 -0.331805       -0.001100           0.078397  0.890096  1.012588\n",
       "2022 -0.112383        1.193064           0.389734  0.975789  1.173136\n",
       "2023 -0.044757       -0.152473           0.210277  0.908601  1.082685"
      ]
     },
     "execution_count": 23,
     "metadata": {},
     "output_type": "execute_result"
    }
   ],
   "source": [
    "Belgium_data"
   ]
  },
  {
   "cell_type": "code",
   "execution_count": 24,
   "id": "8fe62336-34c0-4c45-92fc-26201aee409c",
   "metadata": {},
   "outputs": [
    {
     "name": "stdout",
     "output_type": "stream",
     "text": [
      "<class 'pandas.core.frame.DataFrame'>\n",
      "Index: 10 entries, 2014 to 2023\n",
      "Data columns (total 5 columns):\n",
      " #   Column             Non-Null Count  Dtype  \n",
      "---  ------             --------------  -----  \n",
      " 0   GDP                10 non-null     float64\n",
      " 1   Inflation Rate     10 non-null     float64\n",
      " 2   Population Growth  10 non-null     float64\n",
      " 3   Export             10 non-null     float64\n",
      " 4   Import             10 non-null     float64\n",
      "dtypes: float64(5)\n",
      "memory usage: 480.0 bytes\n"
     ]
    }
   ],
   "source": [
    "Belgium_data.info()"
   ]
  },
  {
   "cell_type": "markdown",
   "id": "5901ccaa-a5ad-4c5d-8a05-a212f7e90fce",
   "metadata": {},
   "source": [
    "# Split Data into Training and Testing Sets"
   ]
  },
  {
   "cell_type": "code",
   "execution_count": 25,
   "id": "3a9547a3-90c8-4ad8-8977-fdcc479a1fd4",
   "metadata": {},
   "outputs": [],
   "source": [
    "from sklearn.model_selection import train_test_split\n",
    "X_train, X_test, y_train, y_test = train_test_split(Belgium_data.drop(columns = 'GDP'), Belgium_data['GDP'], test_size = 0.2, shuffle = True, random_state = 42)"
   ]
  },
  {
   "cell_type": "markdown",
   "id": "f87ee0d6-4bfe-4576-8947-9c9b61c26fe2",
   "metadata": {},
   "source": [
    "# Regression Model"
   ]
  },
  {
   "cell_type": "code",
   "execution_count": 26,
   "id": "ae193365-c2bb-4b04-a70f-db4b46594007",
   "metadata": {},
   "outputs": [],
   "source": [
    "from sklearn.linear_model import LinearRegression\n",
    "from sklearn.preprocessing import PolynomialFeatures\n",
    "\n",
    "poly = PolynomialFeatures(degree=1, include_bias = True)\n",
    "X_train_poly = poly.fit_transform(X_train)\n",
    "X_test_poly = poly.transform(X_test)\n",
    "\n",
    "model = LinearRegression()\n",
    "model.fit(X_train_poly, y_train)\n",
    "\n",
    "y_pred = model.predict(X_test_poly)"
   ]
  },
  {
   "cell_type": "markdown",
   "id": "999af0f5-eb90-488a-8352-9a2835b14612",
   "metadata": {},
   "source": [
    "# Evaluation with test data for Regression model"
   ]
  },
  {
   "cell_type": "code",
   "execution_count": 27,
   "id": "06ee92a0-07e3-4cde-bc09-a558004f3fa5",
   "metadata": {},
   "outputs": [
    {
     "name": "stdout",
     "output_type": "stream",
     "text": [
      "Accuracy: -0.40171354249329827\n"
     ]
    }
   ],
   "source": [
    "from sklearn.metrics import r2_score\n",
    "r2 = r2_score(y_test, y_pred)\n",
    "print(\"Accuracy:\", r2)"
   ]
  },
  {
   "cell_type": "markdown",
   "id": "fdbaa751-9dde-462e-b6ff-ccb870c5abb1",
   "metadata": {},
   "source": [
    "# Ridge Model"
   ]
  },
  {
   "cell_type": "code",
   "execution_count": 28,
   "id": "8df59ce9-7127-4b0b-ab23-cc3bc6dafc59",
   "metadata": {},
   "outputs": [],
   "source": [
    "from sklearn.linear_model import Ridge\n",
    "Ridge_model = Ridge(alpha=0.5)  \n",
    "Ridge_model.fit(X_train, y_train)\n",
    "y_pred = Ridge_model.predict(X_test)"
   ]
  },
  {
   "cell_type": "markdown",
   "id": "df95a599-a65f-4441-8181-cca44d8b7796",
   "metadata": {},
   "source": [
    "# Evaluation with test data for Ridge model"
   ]
  },
  {
   "cell_type": "code",
   "execution_count": 29,
   "id": "54271181-1b0d-4263-838d-a11abd5d63e9",
   "metadata": {},
   "outputs": [
    {
     "name": "stdout",
     "output_type": "stream",
     "text": [
      "Accuracy: 0.9661646947073201\n"
     ]
    }
   ],
   "source": [
    "from sklearn.metrics import r2_score\n",
    "r2 = r2_score(y_test, y_pred)\n",
    "print(\"Accuracy:\", r2)"
   ]
  },
  {
   "cell_type": "markdown",
   "id": "414c7101-3fb5-4439-ac06-51da094e5688",
   "metadata": {},
   "source": [
    "# ElasticNet Model"
   ]
  },
  {
   "cell_type": "code",
   "execution_count": 30,
   "id": "686827ac-1a81-4bf8-88ac-973cd58a7e0f",
   "metadata": {},
   "outputs": [],
   "source": [
    "from sklearn.linear_model import ElasticNet\n",
    "model = ElasticNet(alpha = 0.5, l1_ratio = 0.5, random_state = 42)\n",
    "model.fit(X_train, y_train)\n",
    "\n",
    "y_pred = model.predict(X_test)"
   ]
  },
  {
   "cell_type": "markdown",
   "id": "e8e9057b-cce7-4264-8b60-333deaf96578",
   "metadata": {},
   "source": [
    "# Evaluation with test data for ElasticNet model before finidng the best parameters"
   ]
  },
  {
   "cell_type": "code",
   "execution_count": 31,
   "id": "84da819d-4329-4948-89e0-896cd21b5035",
   "metadata": {},
   "outputs": [
    {
     "name": "stdout",
     "output_type": "stream",
     "text": [
      "Accuracy: -0.06134677933616706\n"
     ]
    }
   ],
   "source": [
    "from sklearn.metrics import r2_score\n",
    "r2 = r2_score(y_test, y_pred)\n",
    "print(\"Accuracy:\", r2)"
   ]
  },
  {
   "cell_type": "markdown",
   "id": "3ef041c0-7d50-4017-a58d-6166c1c9127d",
   "metadata": {},
   "source": [
    "# Grid Search for finding bet parameters for ElasticNet model"
   ]
  },
  {
   "cell_type": "code",
   "execution_count": 35,
   "id": "91092574-7529-4898-9b56-baeb6463820f",
   "metadata": {},
   "outputs": [
    {
     "name": "stdout",
     "output_type": "stream",
     "text": [
      "Best Parameters: {'alpha': 0.01, 'l1_ratio': 0.1}\n"
     ]
    }
   ],
   "source": [
    "from sklearn.model_selection import GridSearchCV\n",
    "\n",
    "param_grid = {\n",
    "    'alpha': [0.01, 0.1, 0.5, 1, 10],\n",
    "    'l1_ratio': [0.1, 0.5, 0.7, 0.9, 1.0]\n",
    "}\n",
    "\n",
    "elastic_net = ElasticNet(random_state=42)\n",
    "\n",
    "grid_search = GridSearchCV(estimator=elastic_net, param_grid=param_grid, cv=5, scoring='r2', n_jobs=-1)\n",
    "grid_search.fit(X_train, y_train)\n",
    "\n",
    "print(\"Best Parameters:\", grid_search.best_params_)\n",
    "\n",
    "model = grid_search.best_estimator_"
   ]
  },
  {
   "cell_type": "markdown",
   "id": "6f5a9408-322f-4f04-9a6c-09b85da30484",
   "metadata": {},
   "source": [
    "# Evaluation with test data for Grid Search model base on ElasticNet"
   ]
  },
  {
   "cell_type": "code",
   "execution_count": 33,
   "id": "ec1f1f7f-66f4-406d-b844-aed62edfa18e",
   "metadata": {},
   "outputs": [
    {
     "name": "stdout",
     "output_type": "stream",
     "text": [
      "Accuracy: 0.7390436140316403\n"
     ]
    }
   ],
   "source": [
    "y_pred = model.predict(X_test)\n",
    "r2 = r2_score(y_test, y_pred)\n",
    "print(\"Accuracy:\", r2)"
   ]
  },
  {
   "cell_type": "markdown",
   "id": "74a2d2ef-be06-4fdd-ba84-aa1935ea1c3d",
   "metadata": {},
   "source": [
    "# Collecting the coefficients of best model (Ridge) for Belgium"
   ]
  },
  {
   "cell_type": "code",
   "execution_count": 34,
   "id": "ebb181dd-79c2-4aa5-8d02-81d7db1e2a05",
   "metadata": {},
   "outputs": [
    {
     "data": {
      "text/plain": [
       "array([0.1328521 , 0.12767897, 0.22670788, 0.25840838])"
      ]
     },
     "execution_count": 34,
     "metadata": {},
     "output_type": "execute_result"
    }
   ],
   "source": [
    "coefficients = Ridge_model.coef_\n",
    "coefficients"
   ]
  },
  {
   "cell_type": "code",
   "execution_count": null,
   "id": "4c3f8e5b-df22-4b2b-90b6-4d1dfa04a613",
   "metadata": {},
   "outputs": [],
   "source": []
  }
 ],
 "metadata": {
  "kernelspec": {
   "display_name": "Python 3 (ipykernel)",
   "language": "python",
   "name": "python3"
  },
  "language_info": {
   "codemirror_mode": {
    "name": "ipython",
    "version": 3
   },
   "file_extension": ".py",
   "mimetype": "text/x-python",
   "name": "python",
   "nbconvert_exporter": "python",
   "pygments_lexer": "ipython3",
   "version": "3.9.0"
  }
 },
 "nbformat": 4,
 "nbformat_minor": 5
}
