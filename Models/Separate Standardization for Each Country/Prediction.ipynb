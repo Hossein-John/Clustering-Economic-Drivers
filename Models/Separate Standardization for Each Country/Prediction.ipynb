{
 "cells": [
  {
   "cell_type": "code",
   "execution_count": 10,
   "id": "4029ccf3-5df0-41eb-adef-1abd8f5ab7a7",
   "metadata": {},
   "outputs": [],
   "source": [
    "import numpy as np\n",
    "import pandas as pd\n",
    "import joblib\n",
    "import warnings\n",
    "warnings.filterwarnings('ignore')"
   ]
  },
  {
   "cell_type": "code",
   "execution_count": 11,
   "id": "dfd1481c-bb91-4644-9a74-07b8fbc0f42a",
   "metadata": {},
   "outputs": [],
   "source": [
    "country = 'ESP'\n",
    "model = joblib.load(f'models/{country}_model.pkl')\n",
    "scaler = joblib.load(f'scalers/{country}_scaler.pkl')\n",
    "\n",
    "\n",
    "new_data = {\n",
    "    'Population' : 47415794, \n",
    "    'Inflation' : 3.0931351197642, \n",
    "    'Import' : 134.0948592709,\n",
    "    'Export' : 135.6812883345\n",
    "}\n",
    "\n",
    "df = pd.DataFrame([new_data])"
   ]
  },
  {
   "cell_type": "code",
   "execution_count": 12,
   "id": "2e74aeaa-45d2-40b6-9dd6-e5329d830d17",
   "metadata": {},
   "outputs": [
    {
     "data": {
      "text/html": [
       "<div>\n",
       "<style scoped>\n",
       "    .dataframe tbody tr th:only-of-type {\n",
       "        vertical-align: middle;\n",
       "    }\n",
       "\n",
       "    .dataframe tbody tr th {\n",
       "        vertical-align: top;\n",
       "    }\n",
       "\n",
       "    .dataframe thead th {\n",
       "        text-align: right;\n",
       "    }\n",
       "</style>\n",
       "<table border=\"1\" class=\"dataframe\">\n",
       "  <thead>\n",
       "    <tr style=\"text-align: right;\">\n",
       "      <th></th>\n",
       "      <th>Population</th>\n",
       "      <th>Inflation</th>\n",
       "      <th>Import</th>\n",
       "      <th>Export</th>\n",
       "    </tr>\n",
       "  </thead>\n",
       "  <tbody>\n",
       "    <tr>\n",
       "      <th>0</th>\n",
       "      <td>47415794</td>\n",
       "      <td>3.093135</td>\n",
       "      <td>134.094859</td>\n",
       "      <td>135.681288</td>\n",
       "    </tr>\n",
       "  </tbody>\n",
       "</table>\n",
       "</div>"
      ],
      "text/plain": [
       "   Population  Inflation      Import      Export\n",
       "0    47415794   3.093135  134.094859  135.681288"
      ]
     },
     "execution_count": 12,
     "metadata": {},
     "output_type": "execute_result"
    }
   ],
   "source": [
    "df"
   ]
  },
  {
   "cell_type": "code",
   "execution_count": 13,
   "id": "a3900279-c210-4f6c-b3b8-16eb81d9ebb0",
   "metadata": {},
   "outputs": [],
   "source": [
    "columns = ['Population', 'Inflation', 'Import', 'Export']\n",
    "df_scaled = df.copy()\n",
    "df_scaled[columns] = scaler.transform(df[columns])"
   ]
  },
  {
   "cell_type": "code",
   "execution_count": 14,
   "id": "e452f4fa-07a2-4b19-84ac-4050421783df",
   "metadata": {},
   "outputs": [
    {
     "data": {
      "text/html": [
       "<div>\n",
       "<style scoped>\n",
       "    .dataframe tbody tr th:only-of-type {\n",
       "        vertical-align: middle;\n",
       "    }\n",
       "\n",
       "    .dataframe tbody tr th {\n",
       "        vertical-align: top;\n",
       "    }\n",
       "\n",
       "    .dataframe thead th {\n",
       "        text-align: right;\n",
       "    }\n",
       "</style>\n",
       "<table border=\"1\" class=\"dataframe\">\n",
       "  <thead>\n",
       "    <tr style=\"text-align: right;\">\n",
       "      <th></th>\n",
       "      <th>Population</th>\n",
       "      <th>Inflation</th>\n",
       "      <th>Import</th>\n",
       "      <th>Export</th>\n",
       "    </tr>\n",
       "  </thead>\n",
       "  <tbody>\n",
       "    <tr>\n",
       "      <th>0</th>\n",
       "      <td>47415794</td>\n",
       "      <td>3.093135</td>\n",
       "      <td>134.094859</td>\n",
       "      <td>135.681288</td>\n",
       "    </tr>\n",
       "  </tbody>\n",
       "</table>\n",
       "</div>"
      ],
      "text/plain": [
       "   Population  Inflation      Import      Export\n",
       "0    47415794   3.093135  134.094859  135.681288"
      ]
     },
     "execution_count": 14,
     "metadata": {},
     "output_type": "execute_result"
    }
   ],
   "source": [
    "df"
   ]
  },
  {
   "cell_type": "code",
   "execution_count": 15,
   "id": "bd5f8f8f-99b7-4c3b-8ac8-df127b772001",
   "metadata": {},
   "outputs": [
    {
     "data": {
      "text/html": [
       "<div>\n",
       "<style scoped>\n",
       "    .dataframe tbody tr th:only-of-type {\n",
       "        vertical-align: middle;\n",
       "    }\n",
       "\n",
       "    .dataframe tbody tr th {\n",
       "        vertical-align: top;\n",
       "    }\n",
       "\n",
       "    .dataframe thead th {\n",
       "        text-align: right;\n",
       "    }\n",
       "</style>\n",
       "<table border=\"1\" class=\"dataframe\">\n",
       "  <thead>\n",
       "    <tr style=\"text-align: right;\">\n",
       "      <th></th>\n",
       "      <th>Population</th>\n",
       "      <th>Inflation</th>\n",
       "      <th>Import</th>\n",
       "      <th>Export</th>\n",
       "    </tr>\n",
       "  </thead>\n",
       "  <tbody>\n",
       "    <tr>\n",
       "      <th>0</th>\n",
       "      <td>1.11666</td>\n",
       "      <td>0.622526</td>\n",
       "      <td>1.376644</td>\n",
       "      <td>1.70438</td>\n",
       "    </tr>\n",
       "  </tbody>\n",
       "</table>\n",
       "</div>"
      ],
      "text/plain": [
       "   Population  Inflation    Import   Export\n",
       "0     1.11666   0.622526  1.376644  1.70438"
      ]
     },
     "execution_count": 15,
     "metadata": {},
     "output_type": "execute_result"
    }
   ],
   "source": [
    "df_scaled"
   ]
  },
  {
   "cell_type": "code",
   "execution_count": 16,
   "id": "2fc0f273-8cb9-4cc6-8576-839db73ea7f5",
   "metadata": {},
   "outputs": [],
   "source": [
    "predicted_gdp = model.predict(df_scaled)"
   ]
  },
  {
   "cell_type": "code",
   "execution_count": 17,
   "id": "3d96f2d7-7417-4f71-b82f-67551a9499d9",
   "metadata": {},
   "outputs": [
    {
     "data": {
      "text/plain": [
       "array([1.51130609e+12])"
      ]
     },
     "execution_count": 17,
     "metadata": {},
     "output_type": "execute_result"
    }
   ],
   "source": [
    "predicted_gdp"
   ]
  },
  {
   "cell_type": "code",
   "execution_count": 18,
   "id": "bd45853c-8c0d-4149-a92c-6a9a4e2ee986",
   "metadata": {},
   "outputs": [
    {
     "data": {
      "text/html": [
       "<div>\n",
       "<style scoped>\n",
       "    .dataframe tbody tr th:only-of-type {\n",
       "        vertical-align: middle;\n",
       "    }\n",
       "\n",
       "    .dataframe tbody tr th {\n",
       "        vertical-align: top;\n",
       "    }\n",
       "\n",
       "    .dataframe thead th {\n",
       "        text-align: right;\n",
       "    }\n",
       "</style>\n",
       "<table border=\"1\" class=\"dataframe\">\n",
       "  <thead>\n",
       "    <tr style=\"text-align: right;\">\n",
       "      <th></th>\n",
       "      <th>Population</th>\n",
       "      <th>Inflation</th>\n",
       "      <th>Import</th>\n",
       "      <th>Export</th>\n",
       "      <th>GDP</th>\n",
       "    </tr>\n",
       "  </thead>\n",
       "  <tbody>\n",
       "    <tr>\n",
       "      <th>0</th>\n",
       "      <td>1.11666</td>\n",
       "      <td>0.622526</td>\n",
       "      <td>1.376644</td>\n",
       "      <td>1.70438</td>\n",
       "      <td>1.511306e+12</td>\n",
       "    </tr>\n",
       "  </tbody>\n",
       "</table>\n",
       "</div>"
      ],
      "text/plain": [
       "   Population  Inflation    Import   Export           GDP\n",
       "0     1.11666   0.622526  1.376644  1.70438  1.511306e+12"
      ]
     },
     "execution_count": 18,
     "metadata": {},
     "output_type": "execute_result"
    }
   ],
   "source": [
    "df_scaled['GDP'] = predicted_gdp\n",
    "df_scaled"
   ]
  },
  {
   "cell_type": "markdown",
   "id": "5f119f5c-c0cc-4153-8cd7-ba1bfda8f5e3",
   "metadata": {},
   "source": [
    "# Counterfactual explanation"
   ]
  },
  {
   "cell_type": "code",
   "execution_count": 9,
   "id": "c276abc2-9207-4508-a54f-52b23f977916",
   "metadata": {},
   "outputs": [],
   "source": [
    "import dice_ml\n",
    "from dice_ml.utils import helpers"
   ]
  },
  {
   "cell_type": "code",
   "execution_count": 33,
   "id": "86ceac85-8676-4660-8be5-4b86e803ed76",
   "metadata": {},
   "outputs": [
    {
     "name": "stderr",
     "output_type": "stream",
     "text": [
      "100%|████████████████████████████████████████████████████████████████████████████████████| 1/1 [00:00<00:00,  6.63it/s]"
     ]
    },
    {
     "name": "stdout",
     "output_type": "stream",
     "text": [
      "Query instance (original outcome : 1511306035200.0)\n"
     ]
    },
    {
     "name": "stderr",
     "output_type": "stream",
     "text": [
      "\n"
     ]
    },
    {
     "data": {
      "text/html": [
       "<div>\n",
       "<style scoped>\n",
       "    .dataframe tbody tr th:only-of-type {\n",
       "        vertical-align: middle;\n",
       "    }\n",
       "\n",
       "    .dataframe tbody tr th {\n",
       "        vertical-align: top;\n",
       "    }\n",
       "\n",
       "    .dataframe thead th {\n",
       "        text-align: right;\n",
       "    }\n",
       "</style>\n",
       "<table border=\"1\" class=\"dataframe\">\n",
       "  <thead>\n",
       "    <tr style=\"text-align: right;\">\n",
       "      <th></th>\n",
       "      <th>Population</th>\n",
       "      <th>Inflation</th>\n",
       "      <th>Import</th>\n",
       "      <th>Export</th>\n",
       "      <th>GDP</th>\n",
       "    </tr>\n",
       "  </thead>\n",
       "  <tbody>\n",
       "    <tr>\n",
       "      <th>0</th>\n",
       "      <td>1.11666</td>\n",
       "      <td>0.622526</td>\n",
       "      <td>1.376644</td>\n",
       "      <td>1.70438</td>\n",
       "      <td>1.511306e+12</td>\n",
       "    </tr>\n",
       "  </tbody>\n",
       "</table>\n",
       "</div>"
      ],
      "text/plain": [
       "   Population  Inflation    Import   Export           GDP\n",
       "0     1.11666   0.622526  1.376644  1.70438  1.511306e+12"
      ]
     },
     "metadata": {},
     "output_type": "display_data"
    },
    {
     "name": "stdout",
     "output_type": "stream",
     "text": [
      "\n",
      "Diverse Counterfactual set (new outcome: [1500000000000.0, 2000000000000.0])\n"
     ]
    },
    {
     "data": {
      "text/html": [
       "<div>\n",
       "<style scoped>\n",
       "    .dataframe tbody tr th:only-of-type {\n",
       "        vertical-align: middle;\n",
       "    }\n",
       "\n",
       "    .dataframe tbody tr th {\n",
       "        vertical-align: top;\n",
       "    }\n",
       "\n",
       "    .dataframe thead th {\n",
       "        text-align: right;\n",
       "    }\n",
       "</style>\n",
       "<table border=\"1\" class=\"dataframe\">\n",
       "  <thead>\n",
       "    <tr style=\"text-align: right;\">\n",
       "      <th></th>\n",
       "      <th>Population</th>\n",
       "      <th>Inflation</th>\n",
       "      <th>Import</th>\n",
       "      <th>Export</th>\n",
       "      <th>GDP</th>\n",
       "    </tr>\n",
       "  </thead>\n",
       "  <tbody>\n",
       "    <tr>\n",
       "      <th>0</th>\n",
       "      <td>-</td>\n",
       "      <td>0.450534</td>\n",
       "      <td>-</td>\n",
       "      <td>-</td>\n",
       "      <td>-</td>\n",
       "    </tr>\n",
       "    <tr>\n",
       "      <th>1</th>\n",
       "      <td>-</td>\n",
       "      <td>1.569716</td>\n",
       "      <td>-</td>\n",
       "      <td>-</td>\n",
       "      <td>-</td>\n",
       "    </tr>\n",
       "  </tbody>\n",
       "</table>\n",
       "</div>"
      ],
      "text/plain": [
       "  Population Inflation Import Export GDP\n",
       "0          -  0.450534      -      -   -\n",
       "1          -  1.569716      -      -   -"
      ]
     },
     "metadata": {},
     "output_type": "display_data"
    }
   ],
   "source": [
    "import dice_ml\n",
    "from dice_ml.utils import helpers\n",
    "\n",
    "d = dice_ml.Data(dataframe=df_scaled, continuous_features=['Population', 'Inflation', 'Import', 'Export'], outcome_name='GDP')\n",
    "\n",
    "m = dice_ml.Model(model=model, backend='sklearn', model_type='regressor') \n",
    "\n",
    "exp = dice_ml.Dice(d, m)\n",
    "\n",
    "query_instance = df_scaled.drop(columns=\"GDP\").iloc[0:1]\n",
    "\n",
    "\n",
    "desired_range = [1.5e12, 2e12]  # \n",
    "\n",
    "features_to_vary = ['Population', 'Inflation', 'Import', 'Export']\n",
    "permitted_range = {'Population':[0, 50e6], 'Inflation':[0,10]}\n",
    "\n",
    "dice_exp = exp.generate_counterfactuals(query_instance, total_CFs=2, \n",
    "                                        permitted_range=permitted_range,\n",
    "                                        features_to_vary=features_to_vary,\n",
    "                                        desired_range=desired_range)\n",
    "\n",
    "dice_exp.visualize_as_dataframe(show_only_changes=True)"
   ]
  },
  {
   "cell_type": "code",
   "execution_count": null,
   "id": "8269aadb-91e7-4979-9afd-4f6ce81fd845",
   "metadata": {},
   "outputs": [],
   "source": []
  }
 ],
 "metadata": {
  "kernelspec": {
   "display_name": "Python 3 (ipykernel)",
   "language": "python",
   "name": "python3"
  },
  "language_info": {
   "codemirror_mode": {
    "name": "ipython",
    "version": 3
   },
   "file_extension": ".py",
   "mimetype": "text/x-python",
   "name": "python",
   "nbconvert_exporter": "python",
   "pygments_lexer": "ipython3",
   "version": "3.9.0"
  }
 },
 "nbformat": 4,
 "nbformat_minor": 5
}
