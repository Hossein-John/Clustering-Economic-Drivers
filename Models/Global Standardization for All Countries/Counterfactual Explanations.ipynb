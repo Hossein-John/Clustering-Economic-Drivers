{
 "cells": [
  {
   "cell_type": "code",
   "execution_count": 1,
   "id": "4029ccf3-5df0-41eb-adef-1abd8f5ab7a7",
   "metadata": {},
   "outputs": [],
   "source": [
    "import numpy as np\n",
    "import pandas as pd\n",
    "import joblib"
   ]
  },
  {
   "cell_type": "code",
   "execution_count": 2,
   "id": "dfd1481c-bb91-4644-9a74-07b8fbc0f42a",
   "metadata": {},
   "outputs": [],
   "source": [
    "country = 'ESP'\n",
    "model = joblib.load(f'models/{country}_model.pkl')\n",
    "scaler_features = joblib.load('scalers/scaler_features.pkl')\n",
    "scaler_gdp = joblib.load('scalers/scaler_gdp.pkl')\n",
    "\n",
    "new_data = {\n",
    "    'Population' : 47415794, \n",
    "    'Inflation' : 3.0931351197642, \n",
    "    'Import' : 134.0948592709,\n",
    "    'Export' : 135.6812883345\n",
    "}\n",
    "\n",
    "df = pd.DataFrame([new_data])"
   ]
  },
  {
   "cell_type": "code",
   "execution_count": 3,
   "id": "f47424a4-7234-48de-b118-8c7b274f83ad",
   "metadata": {},
   "outputs": [],
   "source": [
    "features_to_scale = ['Population', 'Inflation', 'Import', 'Export']\n",
    "gdp_column = 'GDP'"
   ]
  },
  {
   "cell_type": "code",
   "execution_count": 4,
   "id": "e20f7f1d-b791-4047-9667-6bf3fb7e2119",
   "metadata": {},
   "outputs": [],
   "source": [
    "df_scaled = df.copy()\n",
    "df_scaled[features_to_scale] = scaler_features.transform(df[features_to_scale])"
   ]
  },
  {
   "cell_type": "code",
   "execution_count": 5,
   "id": "760d5d94-05fc-4e45-b19b-db31e5a30aa7",
   "metadata": {},
   "outputs": [
    {
     "data": {
      "text/html": [
       "<div>\n",
       "<style scoped>\n",
       "    .dataframe tbody tr th:only-of-type {\n",
       "        vertical-align: middle;\n",
       "    }\n",
       "\n",
       "    .dataframe tbody tr th {\n",
       "        vertical-align: top;\n",
       "    }\n",
       "\n",
       "    .dataframe thead th {\n",
       "        text-align: right;\n",
       "    }\n",
       "</style>\n",
       "<table border=\"1\" class=\"dataframe\">\n",
       "  <thead>\n",
       "    <tr style=\"text-align: right;\">\n",
       "      <th></th>\n",
       "      <th>Population</th>\n",
       "      <th>Inflation</th>\n",
       "      <th>Import</th>\n",
       "      <th>Export</th>\n",
       "    </tr>\n",
       "  </thead>\n",
       "  <tbody>\n",
       "    <tr>\n",
       "      <th>0</th>\n",
       "      <td>47415794</td>\n",
       "      <td>3.093135</td>\n",
       "      <td>134.094859</td>\n",
       "      <td>135.681288</td>\n",
       "    </tr>\n",
       "  </tbody>\n",
       "</table>\n",
       "</div>"
      ],
      "text/plain": [
       "   Population  Inflation      Import      Export\n",
       "0    47415794   3.093135  134.094859  135.681288"
      ]
     },
     "execution_count": 5,
     "metadata": {},
     "output_type": "execute_result"
    }
   ],
   "source": [
    "df"
   ]
  },
  {
   "cell_type": "code",
   "execution_count": 6,
   "id": "f1960178-ebc5-4478-a37b-4b97b1ea79e9",
   "metadata": {},
   "outputs": [
    {
     "data": {
      "text/html": [
       "<div>\n",
       "<style scoped>\n",
       "    .dataframe tbody tr th:only-of-type {\n",
       "        vertical-align: middle;\n",
       "    }\n",
       "\n",
       "    .dataframe tbody tr th {\n",
       "        vertical-align: top;\n",
       "    }\n",
       "\n",
       "    .dataframe thead th {\n",
       "        text-align: right;\n",
       "    }\n",
       "</style>\n",
       "<table border=\"1\" class=\"dataframe\">\n",
       "  <thead>\n",
       "    <tr style=\"text-align: right;\">\n",
       "      <th></th>\n",
       "      <th>Population</th>\n",
       "      <th>Inflation</th>\n",
       "      <th>Import</th>\n",
       "      <th>Export</th>\n",
       "    </tr>\n",
       "  </thead>\n",
       "  <tbody>\n",
       "    <tr>\n",
       "      <th>0</th>\n",
       "      <td>0.076349</td>\n",
       "      <td>-0.052541</td>\n",
       "      <td>1.487841</td>\n",
       "      <td>0.422801</td>\n",
       "    </tr>\n",
       "  </tbody>\n",
       "</table>\n",
       "</div>"
      ],
      "text/plain": [
       "   Population  Inflation    Import    Export\n",
       "0    0.076349  -0.052541  1.487841  0.422801"
      ]
     },
     "execution_count": 6,
     "metadata": {},
     "output_type": "execute_result"
    }
   ],
   "source": [
    "df_scaled"
   ]
  },
  {
   "cell_type": "code",
   "execution_count": 7,
   "id": "2fc0f273-8cb9-4cc6-8576-839db73ea7f5",
   "metadata": {},
   "outputs": [],
   "source": [
    "predicted_gdp = model.predict(df_scaled)"
   ]
  },
  {
   "cell_type": "code",
   "execution_count": 8,
   "id": "3d96f2d7-7417-4f71-b82f-67551a9499d9",
   "metadata": {},
   "outputs": [
    {
     "data": {
      "text/plain": [
       "array([1.00058333])"
      ]
     },
     "execution_count": 8,
     "metadata": {},
     "output_type": "execute_result"
    }
   ],
   "source": [
    "predicted_gdp"
   ]
  },
  {
   "cell_type": "code",
   "execution_count": 9,
   "id": "bd45853c-8c0d-4149-a92c-6a9a4e2ee986",
   "metadata": {},
   "outputs": [
    {
     "data": {
      "text/html": [
       "<div>\n",
       "<style scoped>\n",
       "    .dataframe tbody tr th:only-of-type {\n",
       "        vertical-align: middle;\n",
       "    }\n",
       "\n",
       "    .dataframe tbody tr th {\n",
       "        vertical-align: top;\n",
       "    }\n",
       "\n",
       "    .dataframe thead th {\n",
       "        text-align: right;\n",
       "    }\n",
       "</style>\n",
       "<table border=\"1\" class=\"dataframe\">\n",
       "  <thead>\n",
       "    <tr style=\"text-align: right;\">\n",
       "      <th></th>\n",
       "      <th>Population</th>\n",
       "      <th>Inflation</th>\n",
       "      <th>Import</th>\n",
       "      <th>Export</th>\n",
       "      <th>GDP</th>\n",
       "    </tr>\n",
       "  </thead>\n",
       "  <tbody>\n",
       "    <tr>\n",
       "      <th>0</th>\n",
       "      <td>0.076349</td>\n",
       "      <td>-0.052541</td>\n",
       "      <td>1.487841</td>\n",
       "      <td>0.422801</td>\n",
       "      <td>1.000583</td>\n",
       "    </tr>\n",
       "  </tbody>\n",
       "</table>\n",
       "</div>"
      ],
      "text/plain": [
       "   Population  Inflation    Import    Export       GDP\n",
       "0    0.076349  -0.052541  1.487841  0.422801  1.000583"
      ]
     },
     "execution_count": 9,
     "metadata": {},
     "output_type": "execute_result"
    }
   ],
   "source": [
    "df_scaled['GDP'] = predicted_gdp\n",
    "df_scaled"
   ]
  },
  {
   "cell_type": "code",
   "execution_count": 10,
   "id": "9d3816cc-3ca3-4d7a-b648-f760ffbb63e2",
   "metadata": {},
   "outputs": [
    {
     "data": {
      "text/html": [
       "<div>\n",
       "<style scoped>\n",
       "    .dataframe tbody tr th:only-of-type {\n",
       "        vertical-align: middle;\n",
       "    }\n",
       "\n",
       "    .dataframe tbody tr th {\n",
       "        vertical-align: top;\n",
       "    }\n",
       "\n",
       "    .dataframe thead th {\n",
       "        text-align: right;\n",
       "    }\n",
       "</style>\n",
       "<table border=\"1\" class=\"dataframe\">\n",
       "  <thead>\n",
       "    <tr style=\"text-align: right;\">\n",
       "      <th></th>\n",
       "      <th>Population</th>\n",
       "      <th>Inflation</th>\n",
       "      <th>Import</th>\n",
       "      <th>Export</th>\n",
       "      <th>GDP</th>\n",
       "    </tr>\n",
       "  </thead>\n",
       "  <tbody>\n",
       "    <tr>\n",
       "      <th>0</th>\n",
       "      <td>47415794.0</td>\n",
       "      <td>3.093135</td>\n",
       "      <td>134.094859</td>\n",
       "      <td>135.681288</td>\n",
       "      <td>1.564229e+12</td>\n",
       "    </tr>\n",
       "  </tbody>\n",
       "</table>\n",
       "</div>"
      ],
      "text/plain": [
       "   Population  Inflation      Import      Export           GDP\n",
       "0  47415794.0   3.093135  134.094859  135.681288  1.564229e+12"
      ]
     },
     "execution_count": 10,
     "metadata": {},
     "output_type": "execute_result"
    }
   ],
   "source": [
    "df_original = df_scaled.copy()\n",
    "df_original[features_to_scale] = scaler_features.inverse_transform(df_scaled[features_to_scale])\n",
    "df_original['GDP'] = scaler_gdp.inverse_transform(df_scaled[['GDP']])\n",
    "df_original"
   ]
  }
 ],
 "metadata": {
  "kernelspec": {
   "display_name": "Python 3 (ipykernel)",
   "language": "python",
   "name": "python3"
  },
  "language_info": {
   "codemirror_mode": {
    "name": "ipython",
    "version": 3
   },
   "file_extension": ".py",
   "mimetype": "text/x-python",
   "name": "python",
   "nbconvert_exporter": "python",
   "pygments_lexer": "ipython3",
   "version": "3.9.0"
  }
 },
 "nbformat": 4,
 "nbformat_minor": 5
}
